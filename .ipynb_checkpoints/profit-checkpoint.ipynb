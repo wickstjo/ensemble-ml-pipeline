{
 "cells": [
  {
   "cell_type": "code",
   "execution_count": 1,
   "metadata": {},
   "outputs": [],
   "source": [
    "import pandas as pd\n",
    "import numpy as np\n",
    "import math\n",
    "import yaml"
   ]
  },
  {
   "cell_type": "code",
   "execution_count": 16,
   "metadata": {},
   "outputs": [],
   "source": [
    "def weighted_position_investing(input_dataframe, params):\n",
    "    \"\"\"\n",
    "    Args:\n",
    "        input_dataframe: pandas.DataFrame\n",
    "                    Column position [0] needs to be close price.\n",
    "                    All other columns need to consist of \"Buy\"/\"Sell\"/\"Hold\" decisions.\n",
    "        investment_capital: Float\n",
    "                    The amount of \"money\" able to be invested.\n",
    "        buy_weight: Float\n",
    "                    Values must be between 0-1. Represents the amount to invest from\n",
    "                    available remaining capital (in procentage). Ie, 0.5 -> 50% of remaining\n",
    "                    available capital on buy.\n",
    "        sell_weight: Float\n",
    "                    Values must be between 0-1. Represents the amount of invested capital\n",
    "                    to sell out of (in procentage). Ie, 0.5 -> 50% of invested capital on sell.\n",
    "    Returns:\n",
    "        pandas.DataFrame\n",
    "            Profit calculations appended to input_dataframe.\n",
    "    \"\"\"\n",
    "    \n",
    "    # DECONSTRUCT PARAMS\n",
    "    investment_capital = params['capital']\n",
    "    buy_weight = params['buy']\n",
    "    sell_weight = params['sell']\n",
    "    \n",
    "    output_dataframe = pd.DataFrame(index=input_dataframe.index, columns=input_dataframe.columns)\n",
    "    \n",
    "    # LOOP THROUGH COLUMNS\n",
    "    for col in input_dataframe.columns[:]:\n",
    "        if col == 'close':\n",
    "            del output_dataframe['close']\n",
    "        else:\n",
    "            current_profit = 0\n",
    "            holding_value = 0\n",
    "            resulting_col = col\n",
    "\n",
    "            wallet = investment_capital\n",
    "            positions_close = []\n",
    "            positions_amount = []\n",
    "            investment_amount = round((wallet * buy_weight), 2)\n",
    "\n",
    "            # LOOP THROUGH EACH ROW\n",
    "            for i in range(len(input_dataframe)):\n",
    "\n",
    "                current_close_price = input_dataframe[\"close\"].iloc[i]\n",
    "                label = input_dataframe[col].iloc[i]\n",
    "\n",
    "                # ON BUY = 0\n",
    "                if((wallet > 0) & (label == 0)):\n",
    "                    # check to see if invest wallet amount or investment amount.\n",
    "                    if wallet < investment_amount:\n",
    "                        amount = calculate_amount(current_close_price, wallet)\n",
    "                        positions_close.append(current_close_price)\n",
    "                        positions_amount.append(amount)\n",
    "                        # remove money from wallet\n",
    "                        wallet -= wallet\n",
    "                        investment_amount = round((wallet * buy_weight), 2)\n",
    "\n",
    "                    else:\n",
    "                        amount = calculate_amount(current_close_price, investment_amount)\n",
    "                        positions_close.append(current_close_price)\n",
    "                        positions_amount.append(amount)\n",
    "                        # remove money from wallet\n",
    "                        wallet -= investment_amount\n",
    "                        investment_amount = round((wallet * buy_weight), 2)\n",
    "\n",
    "                    # ADD NEW PROFIT TO DATAFRAME\n",
    "                    output_dataframe[resulting_col].iloc[i] = round(current_profit, 2)\n",
    "\n",
    "\n",
    "                # ON SELL = 1\n",
    "                elif((len(positions_close) > 0) & (label == 1)):\n",
    "                    n = get_weighted_list_length(positions_close, sell_weight)\n",
    "                    for close_p, amount_p in zip(positions_close[:n], positions_amount[:n]):\n",
    "                        # get sell price and compare to buy price\n",
    "                        selling_price = current_close_price * amount_p\n",
    "                        buying_price = round((close_p * amount_p),2)\n",
    "                        # update wallet to have money again, i.e selling_price\n",
    "                        wallet += round(selling_price, 2)\n",
    "                        # register profit/loss\n",
    "                        profit = calculate_profit(buying_price, selling_price)\n",
    "                        current_profit += round(profit, 2)\n",
    "                    investment_amount = round((wallet * buy_weight), 2)\n",
    "\n",
    "                    # ADD NEW PROFIT TO DATAFRAME\n",
    "                    output_dataframe[resulting_col].iloc[i] = round(current_profit, 2)\n",
    "\n",
    "                    # EMPTY POSITIONS LISTS\n",
    "                    positions_close = positions_close[n:]\n",
    "                    positions_amount = positions_amount[n:]\n",
    "\n",
    "                # ON HOLD = 2\n",
    "                else:\n",
    "                    # Since we are holding, do nothing except udpate current profit\n",
    "                    # ADD NEW PROFIT TO DATAFRAME\n",
    "                    output_dataframe[resulting_col].iloc[i] = round(current_profit, 2)\n",
    "\n",
    "            # SELL OFF OUT REMAINING POSITIONS\n",
    "            current_close_price = input_dataframe[\"close\"].iloc[-1]\n",
    "            for close_p, amount_p in zip(positions_close, positions_amount):\n",
    "                selling_price = current_close_price * amount_p\n",
    "                buying_price = close_p * amount_p\n",
    "                profit = calculate_profit(buying_price, selling_price)\n",
    "                current_profit += round(profit, 2)\n",
    "            \n",
    "            output_dataframe[resulting_col].iloc[-1] = round(current_profit, 2)\n",
    "    \n",
    "    return output_dataframe"
   ]
  },
  {
   "cell_type": "code",
   "execution_count": 11,
   "metadata": {},
   "outputs": [],
   "source": [
    "def calculate_amount(unit_price, budget):\n",
    "    amount = budget / unit_price\n",
    "    return amount"
   ]
  },
  {
   "cell_type": "code",
   "execution_count": 4,
   "metadata": {},
   "outputs": [],
   "source": [
    "def calculate_profit(buy_price, sell_price):\n",
    "    profit = sell_price - buy_price\n",
    "    return profit"
   ]
  },
  {
   "cell_type": "code",
   "execution_count": 13,
   "metadata": {},
   "outputs": [],
   "source": [
    "def get_weighted_list_length(list_item, weight):\n",
    "    list_length = int(math.ceil(len(list_item) * weight))\n",
    "    return list_length"
   ]
  },
  {
   "cell_type": "code",
   "execution_count": 6,
   "metadata": {},
   "outputs": [],
   "source": [
    "def load_yaml(path):\n",
    "    with open(path, mode='r') as file:\n",
    "        return yaml.load(file, Loader=yaml.FullLoader)"
   ]
  },
  {
   "cell_type": "code",
   "execution_count": 7,
   "metadata": {},
   "outputs": [],
   "source": [
    "def process(src):\n",
    "    return pd.read_csv(src, delimiter=',',index_col=0)"
   ]
  },
  {
   "cell_type": "code",
   "execution_count": 8,
   "metadata": {},
   "outputs": [],
   "source": [
    "def profiles_calculation(yaml_configs):\n",
    "    configs = load_yaml(yaml_configs)\n",
    "    profiles = configs['investing_profiles']\n",
    "    data = process(configs['data'])\n",
    "    investment_capital = configs['investment_capital']\n",
    "    profiles\n",
    "    results = []\n",
    "    for profile in profiles:\n",
    "        buy_weight = profiles[profile]['buy_weight']\n",
    "        sell_weight = profiles[profile]['sell_weight']\n",
    "        result = multi_position_investing(data, investment_capital,buy_weight, sell_weight)\n",
    "        results.append(result)\n",
    "    return results"
   ]
  },
  {
   "cell_type": "code",
   "execution_count": null,
   "metadata": {},
   "outputs": [],
   "source": []
  }
 ],
 "metadata": {
  "kernelspec": {
   "display_name": "Python 3",
   "language": "python",
   "name": "python3"
  },
  "language_info": {
   "codemirror_mode": {
    "name": "ipython",
    "version": 3
   },
   "file_extension": ".py",
   "mimetype": "text/x-python",
   "name": "python",
   "nbconvert_exporter": "python",
   "pygments_lexer": "ipython3",
   "version": "3.7.9"
  }
 },
 "nbformat": 4,
 "nbformat_minor": 4
}
