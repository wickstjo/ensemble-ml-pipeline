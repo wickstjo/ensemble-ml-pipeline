{
 "cells": [
  {
   "cell_type": "markdown",
   "metadata": {},
   "source": [
    "### IMPORTS"
   ]
  },
  {
   "cell_type": "code",
   "execution_count": 7,
   "metadata": {},
   "outputs": [],
   "source": [
    "import numpy as np"
   ]
  },
  {
   "cell_type": "code",
   "execution_count": 15,
   "metadata": {},
   "outputs": [],
   "source": [
    "from sklearn.linear_model import LinearRegression, SGDClassifier, RidgeClassifier\n",
    "from sklearn.ensemble import RandomForestClassifier\n",
    "from sklearn.naive_bayes import ComplementNB"
   ]
  },
  {
   "cell_type": "code",
   "execution_count": 2,
   "metadata": {
    "scrolled": false
   },
   "outputs": [],
   "source": [
    "import tensorflow as tf\n",
    "from tensorflow.python.keras import Sequential, Input, Model\n",
    "from tensorflow.python.keras.layers import Dense, LSTM, Dropout"
   ]
  },
  {
   "cell_type": "code",
   "execution_count": 3,
   "metadata": {},
   "outputs": [],
   "source": [
    "config = tf.compat.v1.ConfigProto(gpu_options = \n",
    "                         tf.compat.v1.GPUOptions(per_process_gpu_memory_fraction=0.8)\n",
    "# device_count = {'GPU': 1}\n",
    ")\n",
    "config.gpu_options.allow_growth = True\n",
    "session = tf.compat.v1.Session(config=config)\n",
    "tf.compat.v1.keras.backend.set_session(session)"
   ]
  },
  {
   "cell_type": "code",
   "execution_count": 6,
   "metadata": {},
   "outputs": [],
   "source": [
    "import ipynb.fs.full.splitting as splitting\n",
    "import ipynb.fs.full.misc as misc\n",
    "import ipynb.fs.full.storage as storage"
   ]
  },
  {
   "cell_type": "code",
   "execution_count": 7,
   "metadata": {},
   "outputs": [],
   "source": [
    "from tcn import TCN, tcn_full_summary"
   ]
  },
  {
   "cell_type": "code",
   "execution_count": 8,
   "metadata": {},
   "outputs": [],
   "source": [
    "from sklearn.svm import SVC\n",
    "from sklearn.linear_model import LogisticRegression"
   ]
  },
  {
   "cell_type": "code",
   "execution_count": 9,
   "metadata": {},
   "outputs": [],
   "source": [
    "from sklearn.model_selection import GridSearchCV"
   ]
  },
  {
   "cell_type": "code",
   "execution_count": 10,
   "metadata": {},
   "outputs": [],
   "source": [
    "tf.compat.v1.logging.set_verbosity(tf.compat.v1.logging.ERROR)"
   ]
  },
  {
   "cell_type": "code",
   "execution_count": 11,
   "metadata": {},
   "outputs": [],
   "source": [
    "from sklearn.pipeline import Pipeline"
   ]
  },
  {
   "cell_type": "code",
   "execution_count": 12,
   "metadata": {},
   "outputs": [],
   "source": [
    "from sklearn.preprocessing import MinMaxScaler"
   ]
  },
  {
   "cell_type": "code",
   "execution_count": 1,
   "metadata": {},
   "outputs": [],
   "source": [
    "from sklearn.metrics import r2_score\n",
    "import math"
   ]
  },
  {
   "cell_type": "markdown",
   "metadata": {},
   "source": [
    "### MODEL TYPES"
   ]
  },
  {
   "cell_type": "code",
   "execution_count": 6,
   "metadata": {},
   "outputs": [],
   "source": [
    "class basic_model():\n",
    "    \n",
    "    # STATIC VARS\n",
    "    def __init__(self, _model, _name, _settings, scaler=False):\n",
    "        self.model = _model\n",
    "        self.name = _name\n",
    "        self.settings = _settings\n",
    "        \n",
    "        # CREATE SCALER IF NONE WAS GIVEN\n",
    "        if scaler == False:\n",
    "            self.scaler = MinMaxScaler(feature_range=(0, 1))\n",
    "        else:\n",
    "            self.scaler = scaler\n",
    "    \n",
    "    # TRAIN THE MODEL\n",
    "    def train(self, dataset):\n",
    "        \n",
    "        # SCALE DATASET FEATURES & FIT THE MODEL\n",
    "        scaled_features = self.scaler.fit_transform(dataset['features'])\n",
    "        self.model.fit(scaled_features, dataset['labels'])\n",
    "        \n",
    "        # PREDICT & GET SCORES\n",
    "        predictions = self.model.predict(scaled_features).ravel()\n",
    "        self.score = reg_scores(predictions, dataset)\n",
    "\n",
    "    # PREDICT WITH THE MODEL\n",
    "    def predict(self, dataset):\n",
    "        \n",
    "        # SCALE DATASET FEATURES & PREDICT\n",
    "        scaled_features = self.scaler.transform(dataset['features'])\n",
    "        predictions = self.model.predict(scaled_features)\n",
    "        return np.ndarray.flatten(predictions)\n",
    "    \n",
    "    # SAVE THE SCALER & MODEL\n",
    "    def save(self, path):\n",
    "        storage.save_pickle(self.scaler, path + '/scaler.pickle')\n",
    "        storage.save_pickle(self.settings, path + '/settings.pickle')\n",
    "        storage.save_pickle(self.model, path + '/model.pickle')"
   ]
  },
  {
   "cell_type": "code",
   "execution_count": 17,
   "metadata": {},
   "outputs": [],
   "source": [
    "class generator_model():\n",
    "    \n",
    "    # STATIC VARS\n",
    "    def __init__(self, _name, _settings, scaler=False, model=False):\n",
    "        self.name = _name\n",
    "        self.settings = _settings\n",
    "\n",
    "        # CREATE NEW SCALER IF NONE WAS GIVEN\n",
    "        if scaler == False:\n",
    "            self.scaler = MinMaxScaler(feature_range=(0, 1))\n",
    "        else:\n",
    "            self.scaler = scaler\n",
    "            \n",
    "        # IF A MODEL WAS PASSED, ATTACH IT\n",
    "        if model != False:\n",
    "            self.model = model\n",
    "    \n",
    "    # CREATE BATCH GENERATOR FOR TRAINING\n",
    "    def train_generator(self, dataset):\n",
    "        \n",
    "        # SCALE THE DATASETS FEATURES\n",
    "        features = self.scaler.fit_transform(dataset['features'])\n",
    "        labels = dataset['labels']\n",
    "        \n",
    "        # CREATE THE GENERATOR\n",
    "        return splitting.generator(\n",
    "            features,\n",
    "            labels,\n",
    "            self.settings['morph'],\n",
    "            shuffle=True\n",
    "        )\n",
    "    \n",
    "    # CREATE BATCH GENERATOR FOR TESTING\n",
    "    def test_generator(self, dataset):\n",
    "        \n",
    "        # SCALE THE DATASETS FEATURES\n",
    "        features = self.scaler.transform(dataset['features'])\n",
    "        labels = [0] * len(dataset['features'])\n",
    "        \n",
    "        return splitting.generator(\n",
    "            features,\n",
    "            labels,\n",
    "            self.settings['morph'],\n",
    "            shuffle=False\n",
    "        )\n",
    "    \n",
    "    # ADD THE MODEL TO THE CLASS\n",
    "    def add_model(self, _model):\n",
    "        self.model = _model\n",
    "    \n",
    "    # TRAIN THE MODEL\n",
    "    def train(self, generator):\n",
    "        self.model.fit_generator(\n",
    "            generator,\n",
    "            steps_per_epoch=len(generator),\n",
    "            epochs=self.settings['epochs'],\n",
    "            verbose=1\n",
    "        )\n",
    "        \n",
    "        # SET THE TRAINING MSE SCORE\n",
    "        self.score = self.model.history.history['loss']\n",
    "        \n",
    "    # PREDICT WITH THE MODEL\n",
    "    def predict(self, dataframe):\n",
    "\n",
    "        # CREATE GENERATOR & PREDICT\n",
    "        generator = self.test_generator(dataframe)\n",
    "        predictions = self.model.predict(generator)\n",
    "\n",
    "        return np.ndarray.flatten(predictions)\n",
    "    \n",
    "    # SAVE THE SCALER, SETTINGS & MODEL\n",
    "    def save(self, path):\n",
    "        storage.save_pickle(self.scaler, path + '/scaler.pickle')\n",
    "        storage.save_pickle(self.settings, path + '/settings.pickle')\n",
    "        self.model.save(path + '/model.keras')"
   ]
  },
  {
   "cell_type": "markdown",
   "metadata": {},
   "source": [
    "### METRIC FUNCTIONS"
   ]
  },
  {
   "cell_type": "code",
   "execution_count": 2,
   "metadata": {},
   "outputs": [],
   "source": [
    "def reg_scores(predictions, dataset):\n",
    "    \n",
    "    # GET ROOT SQUARED SCORE\n",
    "    R2 = r2_score(dataset['labels'], predictions)\n",
    "    \n",
    "    # CHECK DIMENSION OF FEATURES\n",
    "    n_rows = len(dataset['features'])\n",
    "    n_features = len(dataset['features'][0])\n",
    "    \n",
    "    # GET ADJUSTED ROOT SQUARED SCORE\n",
    "    adjusted = (1 - (1 - R2) * ((n_rows - 1) / (n_rows - n_features - 1)))\n",
    "    \n",
    "    return {\n",
    "        'R2': R2,\n",
    "        'R2 ADJ': adjusted\n",
    "    }"
   ]
  },
  {
   "cell_type": "markdown",
   "metadata": {},
   "source": [
    "### LINEAR REGRESSION"
   ]
  },
  {
   "cell_type": "code",
   "execution_count": 16,
   "metadata": {},
   "outputs": [],
   "source": [
    "def linear_regression(dataset, name, settings):\n",
    "    \n",
    "    # INSTANTIATE MODEL CLASS\n",
    "    model = LinearRegression()\n",
    "    model = basic_model(model, name, settings)\n",
    "    \n",
    "    # FIT THE MODEL USING TRAIN DATA\n",
    "    model.train(dataset)\n",
    "    \n",
    "    return model"
   ]
  },
  {
   "cell_type": "markdown",
   "metadata": {},
   "source": [
    "### LONG-SHORT TERM MEMORY"
   ]
  },
  {
   "cell_type": "code",
   "execution_count": 17,
   "metadata": {},
   "outputs": [],
   "source": [
    "def long_short_term(dataset, name, settings):\n",
    "    \n",
    "    # INSTANTIATE MODEL & SCALER\n",
    "    model = Sequential()\n",
    "    outline = generator_model(name, settings)\n",
    "    \n",
    "    # CREATE BATCH GENERATOR\n",
    "    train_generator = outline.train_generator(dataset)\n",
    "    \n",
    "    # LOOP THROUGH LAYERS\n",
    "    for index, layer in enumerate(settings['layers']):\n",
    "        \n",
    "        # LAYER PROPS\n",
    "        name, params = misc.key_value(layer)\n",
    "        \n",
    "        # ADD LAYER\n",
    "        add_lstm_layer(\n",
    "            name,\n",
    "            params,\n",
    "            model,\n",
    "            index,\n",
    "            train_generator[0][0].shape\n",
    "        )\n",
    "    \n",
    "    # COMPILE THE MODEL\n",
    "    model.compile(\n",
    "        loss=settings['loss'],\n",
    "        optimizer=settings['optimizer']\n",
    "    )\n",
    "    \n",
    "    # ADD THE MODEL TO THE OUTLINE CLASS & OVERWRITE\n",
    "    outline.add_model(model)\n",
    "    model = outline\n",
    "    \n",
    "    # TRAIN THE MODEL\n",
    "    model.train(train_generator)\n",
    "    \n",
    "    return model"
   ]
  },
  {
   "cell_type": "code",
   "execution_count": 18,
   "metadata": {},
   "outputs": [],
   "source": [
    "def add_lstm_layer(name, settings, model, index, shape):\n",
    "    \n",
    "    # AVAILABLE LSTM LAYERS\n",
    "    available = {\n",
    "        'lstm': LSTM,\n",
    "        'dropout': Dropout,\n",
    "        'dense': Dense\n",
    "    }\n",
    "\n",
    "    # SELECT THE CORRECT FUNCTION\n",
    "    func = available[name]\n",
    "\n",
    "    # INJECT INPUT LAYER DIMENSIONS TO SETTINGS\n",
    "    if index == 0:\n",
    "        settings['input_shape'] = (shape[1], shape[2])\n",
    "        model.add(func(**settings))\n",
    "\n",
    "    # OTHERWISE, DEFAULT TO BASE SETTINGS\n",
    "    else:\n",
    "        model.add(func(**settings))"
   ]
  },
  {
   "cell_type": "markdown",
   "metadata": {},
   "source": [
    "### TEMPORAL CONVOLUTIONAL NETWORK"
   ]
  },
  {
   "cell_type": "code",
   "execution_count": 19,
   "metadata": {},
   "outputs": [],
   "source": [
    "def temporal_convolutional_network(dataset, name, settings):\n",
    "    \n",
    "    # MODEL OUTLINE\n",
    "    outline = generator_model(name, settings)\n",
    "\n",
    "    # TRAIN DATA GENERATOR\n",
    "    train_generator = outline.train_generator(dataset)\n",
    "\n",
    "    # INPUT & OUTPUT LAYER\n",
    "    model_input = Input(batch_shape=train_generator[0][0].shape)\n",
    "    model_output = []\n",
    "    \n",
    "    # LOOP THROUGH REQUESTED MODEL LAYERS\n",
    "    for index, layer in enumerate(settings['layers']):\n",
    "\n",
    "        # LAYER PROPS\n",
    "        name, params = misc.key_value(layer)\n",
    "        \n",
    "        # CHURN MODEL LAYERS\n",
    "        model_output = add_tcn_layers(\n",
    "            name,\n",
    "            params,\n",
    "            index,\n",
    "            model_input,\n",
    "            model_output\n",
    "        )\n",
    "\n",
    "    # INSTANTIATE THE MODEL\n",
    "    model = Model(inputs=[model_input], outputs=[model_output])\n",
    "\n",
    "    # COMPILE THE MODEL\n",
    "    model.compile(\n",
    "        optimizer=settings['optimizer'],\n",
    "        loss=settings['loss']\n",
    "    )\n",
    "    \n",
    "    # ADD THE MODEL TO THE OUTLINE CLASS & OVERWRITE\n",
    "    outline.add_model(model)\n",
    "    model = outline\n",
    "\n",
    "    # TRAIN THE MODEL\n",
    "    model.train(train_generator)\n",
    "    \n",
    "    return model"
   ]
  },
  {
   "cell_type": "code",
   "execution_count": 20,
   "metadata": {},
   "outputs": [],
   "source": [
    "def add_tcn_layers(name, settings, index, model_input, old_output):\n",
    "    \n",
    "    # NEW OUTPUT PLACEHOLDER\n",
    "    new_output = []\n",
    "    \n",
    "    # AVAILABLE TNC LAYERS\n",
    "    available = {\n",
    "        'tcn': TCN,\n",
    "        'dense': Dense,\n",
    "        'dropout': Dropout\n",
    "    }\n",
    "\n",
    "    # SELECT THE CORRECT FUNCTION\n",
    "    func = available[name]\n",
    "\n",
    "    # INJECT WITH INPUT LAYER\n",
    "    if index == 0:\n",
    "        new_output = func(**settings)(model_input)\n",
    "\n",
    "    # OTHERWISE, INJECT WITH OUTPUT LAYER\n",
    "    else:\n",
    "        new_output = func(**settings)(old_output)\n",
    "        \n",
    "    return new_output"
   ]
  },
  {
   "cell_type": "markdown",
   "metadata": {},
   "source": [
    "### GRIDSEARCH FUNCTIONS"
   ]
  },
  {
   "cell_type": "code",
   "execution_count": 21,
   "metadata": {},
   "outputs": [],
   "source": [
    "def search(model, dataset, settings):\n",
    "    \n",
    "    # CREATE MINI-PIPELINE WITH MODEL & SCALER\n",
    "    pipeline = Pipeline([\n",
    "        ('scaler',  MinMaxScaler(feature_range=(0, 1))),\n",
    "        ('model', model)\n",
    "    ])\n",
    "    \n",
    "    # ADD 'MODEL__' TO SETTINGS KEYS\n",
    "    renamed_settings = misc.rename_settings(settings)\n",
    "    \n",
    "    # GRID SEARCH PARAMS\n",
    "    grid_model = GridSearchCV(\n",
    "        pipeline,\n",
    "        renamed_settings,\n",
    "        cv=3,\n",
    "        n_jobs=-1\n",
    "    )\n",
    "    \n",
    "    # FIT THE GRID\n",
    "    grid_model.fit(\n",
    "        dataset['features'],\n",
    "        dataset['labels']\n",
    "    )\n",
    "    \n",
    "    # RETURN THE BEST MODEL OUTCOME\n",
    "    return grid_model.best_estimator_['model']"
   ]
  },
  {
   "cell_type": "code",
   "execution_count": 22,
   "metadata": {},
   "outputs": [],
   "source": [
    "def construct_base(model, dataset, settings):\n",
    "    \n",
    "    # HAS STATIC PARAMETER\n",
    "    if 'static' in settings:\n",
    "        model = model(**settings['static'])\n",
    "    \n",
    "    # DOES NOT\n",
    "    else:\n",
    "        model = model()\n",
    "    \n",
    "    # HAS GRID SEARCH PARAMETERS\n",
    "    if 'grid_search' in settings:\n",
    "        model = search(model, dataset, settings['grid_search'])\n",
    "    \n",
    "    return model"
   ]
  },
  {
   "cell_type": "markdown",
   "metadata": {},
   "source": [
    "### SUPPORT VECTOR MACHINE"
   ]
  },
  {
   "cell_type": "code",
   "execution_count": 23,
   "metadata": {},
   "outputs": [],
   "source": [
    "def support_vector_classifier(dataset, name, settings):\n",
    "    \n",
    "    # INSTANTIATE MODEL & SCALER\n",
    "    model = construct_base(SVC, dataset, settings)\n",
    "    model = basic_model(model, name, settings)\n",
    "    \n",
    "    # FIT ON TRAIN DATASET\n",
    "    model.train(dataset)\n",
    "    \n",
    "    return model"
   ]
  },
  {
   "cell_type": "markdown",
   "metadata": {},
   "source": [
    "### LOGISTIC REGRESSION"
   ]
  },
  {
   "cell_type": "code",
   "execution_count": 24,
   "metadata": {},
   "outputs": [],
   "source": [
    "def logistic_regression(dataset, name, settings):\n",
    "    \n",
    "    # INSTANTIATE MODEL & SCALER\n",
    "    model = construct_base(LogisticRegression, dataset, settings)\n",
    "    model = basic_model(model, name, settings)\n",
    "    \n",
    "    # FIT WITH TRAIN DATA\n",
    "    model.train(dataset)\n",
    "    \n",
    "    return model"
   ]
  },
  {
   "cell_type": "markdown",
   "metadata": {},
   "source": [
    "### RANDOM FOREST CLASSIFIER"
   ]
  },
  {
   "cell_type": "code",
   "execution_count": 25,
   "metadata": {},
   "outputs": [],
   "source": [
    "def random_forest(dataset, name, settings):\n",
    "    \n",
    "    # INSTANTIATE MODEL & SCALER\n",
    "    model = construct_base(RandomForestClassifier, dataset, settings)\n",
    "    model = basic_model(model, name, settings)\n",
    "    \n",
    "    # FIT WITH TRAIN DATA\n",
    "    model.train(dataset)\n",
    "    \n",
    "    return model"
   ]
  },
  {
   "cell_type": "markdown",
   "metadata": {},
   "source": [
    "### SGD CLASSIFIER"
   ]
  },
  {
   "cell_type": "code",
   "execution_count": 9,
   "metadata": {},
   "outputs": [],
   "source": [
    "def sgd(dataset, name, settings):\n",
    "    \n",
    "    # INSTANTIATE MODEL & SCALER\n",
    "    model = construct_base(SGDClassifier, dataset, settings)\n",
    "    model = basic_model(model, name, settings)\n",
    "    \n",
    "    # FIT WITH TRAIN DATA\n",
    "    model.train(dataset)\n",
    "    \n",
    "    return model"
   ]
  },
  {
   "cell_type": "markdown",
   "metadata": {},
   "source": [
    "### RIDGE CLASSIFIER"
   ]
  },
  {
   "cell_type": "code",
   "execution_count": 10,
   "metadata": {},
   "outputs": [],
   "source": [
    "def ridge(dataset, name, settings):\n",
    "    \n",
    "    # INSTANTIATE MODEL & SCALER\n",
    "    model = construct_base(RidgeClassifier, dataset, settings)\n",
    "    model = basic_model(model, name, settings)\n",
    "    \n",
    "    # FIT WITH TRAIN DATA\n",
    "    model.train(dataset)\n",
    "    \n",
    "    return model"
   ]
  },
  {
   "cell_type": "markdown",
   "metadata": {},
   "source": [
    "### COMPLEMENT NB"
   ]
  },
  {
   "cell_type": "code",
   "execution_count": 13,
   "metadata": {},
   "outputs": [],
   "source": [
    "def comp_nb(dataset, name, settings):\n",
    "    \n",
    "    # INSTANTIATE MODEL & SCALER\n",
    "    model = construct_base(ComplementNB, dataset, settings)\n",
    "    model = basic_model(model, name, settings)\n",
    "    \n",
    "    # FIT WITH TRAIN DATA\n",
    "    model.train(dataset)\n",
    "    \n",
    "    return model"
   ]
  },
  {
   "cell_type": "markdown",
   "metadata": {},
   "source": [
    "### START TRAINING A MODEL"
   ]
  },
  {
   "cell_type": "code",
   "execution_count": 14,
   "metadata": {},
   "outputs": [],
   "source": [
    "def start(dataset, name, settings):\n",
    "    \n",
    "    # AVAILABLE MODELS\n",
    "    available = {\n",
    "        'linreg': linear_regression,\n",
    "        'lstm': long_short_term,\n",
    "        'tcn': temporal_convolutional_network,\n",
    "        'svc': support_vector_classifier,\n",
    "        'logreg': logistic_regression,\n",
    "        'randforest': random_forest,\n",
    "        'sgd': sgd,\n",
    "        'ridge': ridge,\n",
    "        'naivebays': comp_nb\n",
    "    }\n",
    "    \n",
    "    # EXTRACT MODEL NAME\n",
    "    model = name.split('_')[0]\n",
    "    \n",
    "    # SELECT THE CORRECT FUNCTION & START\n",
    "    return available[model](dataset, name, settings)"
   ]
  },
  {
   "cell_type": "code",
   "execution_count": null,
   "metadata": {},
   "outputs": [],
   "source": []
  }
 ],
 "metadata": {
  "kernelspec": {
   "display_name": "Python 3",
   "language": "python",
   "name": "python3"
  },
  "language_info": {
   "codemirror_mode": {
    "name": "ipython",
    "version": 3
   },
   "file_extension": ".py",
   "mimetype": "text/x-python",
   "name": "python",
   "nbconvert_exporter": "python",
   "pygments_lexer": "ipython3",
   "version": "3.7.9"
  }
 },
 "nbformat": 4,
 "nbformat_minor": 4
}
